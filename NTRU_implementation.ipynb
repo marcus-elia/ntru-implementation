{
 "cells": [
  {
   "cell_type": "markdown",
   "metadata": {},
   "source": [
    "# NTRU\n",
    "### Implementing Standard NTRUEncrypt\n",
    "\n",
    "This notebook contains everything to implement NTRU, and nothing more."
   ]
  },
  {
   "cell_type": "markdown",
   "metadata": {},
   "source": [
    "# Import Statements"
   ]
  },
  {
   "cell_type": "code",
   "execution_count": 1,
   "metadata": {
    "collapsed": true
   },
   "outputs": [],
   "source": [
    "import matplotlib.pyplot as plt\n",
    "import numpy as np\n",
    "import itertools"
   ]
  },
  {
   "cell_type": "code",
   "execution_count": 2,
   "metadata": {
    "collapsed": true
   },
   "outputs": [],
   "source": [
    "def make_square(fill_color):\n",
    "    \"\"\" This plots a square for the purpose of getting my attention if\n",
    "        one of my functions does not pass its tests. fill_color should\n",
    "        be a string, like 'red' or 'green' \"\"\"\n",
    "    plt.xlim(0,2)\n",
    "    plt.ylim(0,2)\n",
    "    plt.fill_between([0,2], 0, 2, color=fill_color)\n",
    "    plt.yticks([])\n",
    "    plt.xticks([])\n",
    "    plt.show()"
   ]
  },
  {
   "cell_type": "markdown",
   "metadata": {},
   "source": [
    "# Number Theory Functions"
   ]
  },
  {
   "cell_type": "code",
   "execution_count": 3,
   "metadata": {
    "collapsed": true
   },
   "outputs": [],
   "source": [
    "def EEA(a,b):\n",
    "    \"\"\" Performs the Extended Euclidean Algorithm on a and b,\n",
    "        returning (gcd, s, t)\"\"\"\n",
    "    u = 1; g = a; x = 0; y = b\n",
    "    while y != 0:\n",
    "        q = g//y\n",
    "        t = g % y\n",
    "        s = u - q*x\n",
    "        u = x\n",
    "        g = y\n",
    "        x = s\n",
    "        y = t\n",
    "    v = (g - a*u) / b\n",
    "    return (g,u,v)\n",
    "\n",
    "# testing\n",
    "validated = True\n",
    "if EEA(101,13) != (1,4, -31):\n",
    "    validated = False\n",
    "if EEA(4,6) != (2, -1, 1):\n",
    "    validated = False\n",
    "if not validated:\n",
    "    make_square('red')"
   ]
  },
  {
   "cell_type": "code",
   "execution_count": 4,
   "metadata": {
    "collapsed": true
   },
   "outputs": [],
   "source": [
    "def modular_inverse(a, p):\n",
    "    \"\"\" Returns the multiplicative inverse of a mod p, if it exists\"\"\"\n",
    "    (g,u) = EEA(a,p)[:2]\n",
    "    if g != 1:\n",
    "        raise ValueError(\"{} is not relatively prime to {}\".format(a,p))\n",
    "    return u % p\n",
    "\n",
    "# testing\n",
    "validated = True\n",
    "if modular_inverse(2,7) != 4:\n",
    "    validated = False\n",
    "if modular_inverse(5,6) != 5:\n",
    "    validated = False\n",
    "if modular_inverse(1,4) != 1:\n",
    "    validated = False\n",
    "if not validated:\n",
    "    make_square('red')"
   ]
  },
  {
   "cell_type": "code",
   "execution_count": 5,
   "metadata": {
    "collapsed": true
   },
   "outputs": [],
   "source": [
    "def factor(N):\n",
    "    \"\"\" Returns the factorization of N.\"\"\"\n",
    "    m = int(N)\n",
    "    p = 2\n",
    "    factors = []\n",
    "    \n",
    "    # iterate through each prime\n",
    "    while p <= N//2:\n",
    "        exp = 0\n",
    "        \n",
    "        # find all powers of the prime dividing N\n",
    "        while m % p == 0:\n",
    "            exp += 1\n",
    "            m = m // p\n",
    "        \n",
    "        # if the prime divides N, add it to the list\n",
    "        if exp > 0:\n",
    "            factors.append((p,exp))\n",
    "        p = next_prime(p)\n",
    "    \n",
    "    # if N is prime\n",
    "    if len(factors) == 0:\n",
    "        return [(N,1)]\n",
    "    return factors"
   ]
  },
  {
   "cell_type": "markdown",
   "metadata": {},
   "source": [
    "# Polynomials\n",
    "We are viewing polynomials as lists. For example, $3x^3 + 2x - 1$ is `[-1, 2, 0, 3]`.\n",
    "## Contents:\n",
    "`to_string()`\n",
    "\n",
    "`poly_format()`\n",
    "\n",
    "`poly_add()`\n",
    "\n",
    "`poly_subtract()`\n",
    "\n",
    "`poly_mult()`\n",
    "\n",
    "`poly_convolution()`\n",
    "\n",
    "`poly_division()`\n",
    "\n",
    "`poly_EEA()`\n",
    "\n",
    "`reduce_mod()`\n",
    "\n",
    "`scalar_mult()`"
   ]
  },
  {
   "cell_type": "code",
   "execution_count": 6,
   "metadata": {
    "collapsed": true
   },
   "outputs": [],
   "source": [
    "def poly_format(f):\n",
    "    \"\"\" Removes all extraneous 0's of f.\"\"\"\n",
    "    while len(f) > 1 and f[-1] == 0:\n",
    "        f = f[:-1]\n",
    "    return list(f)\n",
    "\n",
    "# testing\n",
    "validated = True\n",
    "if poly_format([1,2,3]) != [1,2,3]:\n",
    "    validated = False\n",
    "if poly_format([1,0,0,0]) != [1]:\n",
    "    validated = False\n",
    "if not validated:\n",
    "    make_square('red')"
   ]
  },
  {
   "cell_type": "code",
   "execution_count": 7,
   "metadata": {
    "collapsed": true
   },
   "outputs": [],
   "source": [
    "def to_string(f, latex=False):\n",
    "    \"\"\" f is a list representing the coefficients of a polynomial.\n",
    "        This returns a string displaying f (with powers of x).\n",
    "        If latex=True, $'s are put around the string.\"\"\"\n",
    "    if not f:\n",
    "        return \"\"\n",
    "    \n",
    "    if latex:\n",
    "        return \"$\" + to_string(f) + \"$\"\n",
    "    \n",
    "    # a constant polynomial\n",
    "    if len(f) == 1 or poly_format(list(f)) == [0]:  # need this 2nd condition to handle a tuple of 0's\n",
    "        return str(f[0])\n",
    "    \n",
    "    # don't write the constant zero\n",
    "    if f[0] != 0:\n",
    "        s = str(f[0]) + \" + \"\n",
    "    else:\n",
    "        s = \"\"\n",
    "    \n",
    "    if f[1] == 1:\n",
    "        s += \"x\"\n",
    "    elif f[1] != 0:\n",
    "        s += str(f[1]) + \"x\"\n",
    "    \n",
    "    # if we have a linear polynomial, we are done\n",
    "    if len(f) == 2:\n",
    "        return s\n",
    "        \n",
    "    if len(s) > 0 and (s[-1].isalpha() or s[-1].isdigit()):\n",
    "        s += \" + \"\n",
    "    \n",
    "    # turn all of the coefficients into strings\n",
    "    for i in range(2, len(f) - 1):\n",
    "        if f[i] != 0:\n",
    "            if f[1] == 1:\n",
    "                s += \"x^\" + str(i) + \" + \"\n",
    "            else:\n",
    "                s += str(f[i]) + \"x^\" + str(i) + \" + \"\n",
    "        \n",
    "    if f[-1] == 0:\n",
    "        return s[:-3]\n",
    "    if f[-1] == 1:\n",
    "        s += \"x^\" + str(len(f) - 1)\n",
    "    else:\n",
    "        s += str(f[-1]) + \"x^\" + str(len(f) - 1)\n",
    "    return s\n",
    "\n",
    "# testing\n",
    "validated = True\n",
    "if to_string([]) != \"\":\n",
    "    validated = False\n",
    "elif to_string([5]) != \"5\":\n",
    "    validated = False\n",
    "elif to_string([1,0,2]) != \"1 + 2x^2\":\n",
    "    validated = False\n",
    "elif to_string([0,5]) != \"5x\":\n",
    "    validated = False\n",
    "elif to_string([0]) != \"0\":\n",
    "    validated = False\n",
    "elif to_string([0,1,0,1]) != \"x + x^3\":\n",
    "    print(to_string([0,1,0,1]))\n",
    "    validated = False\n",
    "elif to_string([0,1]) != \"x\":\n",
    "    validated = False\n",
    "elif to_string([4,5,0]) != \"4 + 5x\":\n",
    "    validated = False\n",
    "elif to_string([0,0,1]) != \"x^2\":\n",
    "    validated = False\n",
    "elif to_string([0,0,0]) != \"0\":\n",
    "    validated = False\n",
    "elif to_string([4,3,2], latex=True) != \"$4 + 3x + 2x^2$\":\n",
    "    validated = False\n",
    "    \n",
    "if not validated:\n",
    "    make_square('red')"
   ]
  },
  {
   "cell_type": "code",
   "execution_count": 8,
   "metadata": {
    "collapsed": true
   },
   "outputs": [],
   "source": [
    "def poly_add(f, g, p=None, debug=False):\n",
    "    \"\"\" Adds the polynomials f and g. Coefficients are added mod p if specified.\"\"\"\n",
    "    \n",
    "    # make sure the lists have the same length\n",
    "    if len(f) > len(g):\n",
    "        g = list(g) + [0 for _ in range(len(f) - len(g))]\n",
    "    else:\n",
    "        f = list(f) + [0 for _ in range(len(g) - len(f))]\n",
    "    \n",
    "    # add the corresponding entries\n",
    "    if not p:\n",
    "        result = [f[i] + g[i] for i in range(len(f))]\n",
    "    else:\n",
    "        result = [(f[i] + g[i]) % p for i in range(len(f))]\n",
    "    \n",
    "    if debug:\n",
    "        print(\"{} + {} = {}\".format(to_string(f), to_string(g), to_string(result)))\n",
    "    \n",
    "    return poly_format(result)\n",
    "\n",
    "# testing\n",
    "validated = True\n",
    "if poly_add([1], [2]) != [3]:\n",
    "    validated=False\n",
    "elif poly_add([0,1], [4]) != [4,1]:\n",
    "    validated = False\n",
    "elif poly_add([5,2], [2,3,4,1]) != [7,5,4,1]:\n",
    "    validated = False\n",
    "elif poly_add([5],[7], p=4) != [0]:\n",
    "    validated = False\n",
    "elif poly_add([1,2,3], [4,2], p=3) != [2,1]:\n",
    "    validated = False\n",
    "if not validated:\n",
    "    make_square('red')"
   ]
  },
  {
   "cell_type": "code",
   "execution_count": 9,
   "metadata": {
    "collapsed": true
   },
   "outputs": [],
   "source": [
    "def poly_subtract(f, g, p=None, debug=False):\n",
    "    \"\"\" Subtracts f and g, mod p if specified\"\"\"\n",
    "    minus_g = [-c for c in g]\n",
    "    return poly_add(f, minus_g, p=p, debug=debug)\n",
    "\n",
    "# testing\n",
    "validated = True\n",
    "if poly_subtract([1], [1]) != [0]:\n",
    "    validated = False\n",
    "if poly_subtract([2,4,1], [5]) != [-3,4,1]:\n",
    "    validated = False\n",
    "if poly_subtract([5], [2,4,1]) != [3, -4, -1]:\n",
    "    validated = False\n",
    "if poly_subtract([5], [6], p=4) != [3]:\n",
    "    validated = False\n",
    "if not validated:\n",
    "    make_square('red')"
   ]
  },
  {
   "cell_type": "code",
   "execution_count": 10,
   "metadata": {
    "collapsed": true
   },
   "outputs": [],
   "source": [
    "def poly_mult(f, g, p=None):\n",
    "    \"\"\" Multiplies f and g as polynomials, reducing the coefficients mod p if needed.\"\"\"\n",
    "    result = [0 for _ in range(len(f) + len(g) - 1)]\n",
    "    for i in range(len(f)):\n",
    "        for j in range(len(g)):\n",
    "            if not p:\n",
    "                result[i + j] += f[i]*g[j]\n",
    "            else:\n",
    "                result[i + j] = (result[i + j] + f[i]*g[j]) % p\n",
    "    return poly_format(result)\n",
    "\n",
    "# testing \n",
    "validated = True\n",
    "if poly_mult([1,2], [0,4]) != [0,4,8]:\n",
    "    validated = False\n",
    "if poly_mult([], []) != []:\n",
    "    validated = False\n",
    "if poly_mult([1,2,3,4,5], [0,7], p=5) != [0,2,4,1,3]:\n",
    "    validated = False\n",
    "if not validated:\n",
    "    make_square('red')"
   ]
  },
  {
   "cell_type": "code",
   "execution_count": 11,
   "metadata": {
    "collapsed": true
   },
   "outputs": [],
   "source": [
    "def poly_convolution(f, g, N, p=None):\n",
    "    \"\"\" Performs polynomial convolution, viewing f and g as elements of R \n",
    "        (polynomials of degree < N). If modulus is specified, all coefficients are\n",
    "        reduced mod the modulus.\"\"\"\n",
    "    \n",
    "    # make an empty list for the result\n",
    "    result = [0 for _ in range(N)]\n",
    "    \n",
    "    for i in range(len(f)):\n",
    "        for j in range(len(g)):\n",
    "            \n",
    "            # get the right index\n",
    "            k = (i + j) % N\n",
    "            if not p:\n",
    "                result[k] += f[i]*g[j]\n",
    "            else:\n",
    "                result[k] = (result[k] + f[i]*g[j]) % p\n",
    "    return poly_format(result)\n",
    "\n",
    "# testing\n",
    "validated = True\n",
    "if poly_convolution([1], [1], 7) != [1]:\n",
    "    validated = False\n",
    "elif poly_convolution([1,2], [0,0,3,4], 7) != [0,0,3,10,8]:\n",
    "    validated = False\n",
    "elif poly_convolution([1,2], [0,0,3,4], 7, p=5) != [0,0,3,0,3]:\n",
    "    validated = False\n",
    "if not validated:\n",
    "    make_square('red')"
   ]
  },
  {
   "cell_type": "code",
   "execution_count": 12,
   "metadata": {
    "collapsed": true
   },
   "outputs": [],
   "source": [
    "def poly_division(f, g, p):\n",
    "    \"\"\" Performs the division algorithm of f and g, \n",
    "        returning (quotient, remainder). f and g are\n",
    "        polynomials in Z/pZ. This algorithm is described\n",
    "        on page 99 of Intro to Math Crypto.\"\"\"\n",
    "    \n",
    "    if g == [0]:\n",
    "        s = \"Cannot divide by the zero polynomial. You tried doing {}/{} mod {}\".format(to_string(f), to_string(g), p)\n",
    "        raise ValueError(s)\n",
    "    \n",
    "    # so it doesn't accidentally think the leading coefficient is a 0\n",
    "    g = poly_format(g)\n",
    "    \n",
    "    # starting by setting the quotient to 0 and the remainder to f\n",
    "    # so this satisfies f = kg + r\n",
    "    k = [0]\n",
    "    r = f\n",
    "    # keep adding and subtracting b*r[e]/b[d] to maintain the equality\n",
    "    # and make r have a smaller degree\n",
    "    while len(r) >= len(g) and r != [0]:\n",
    "        d = len(g) - 1\n",
    "        e = len(r) - 1\n",
    "        single_term = [0 for _ in range(e-d)] + [(r[e]*modular_inverse(g[d], p)) % p]\n",
    "        k = poly_format(poly_add(k, single_term, p=p))\n",
    "        r = poly_format(poly_subtract(r, poly_mult(single_term, g, p=p), p=p))\n",
    "    return (k, r)\n",
    "\n",
    "# testing\n",
    "validated = True\n",
    "if poly_division([-1,0,0,0,0,1], [-3,2,0,1], 13) != ([11,0,1], [6,4,3]):\n",
    "    validated = False\n",
    "if not validated:\n",
    "    make_square('red')"
   ]
  },
  {
   "cell_type": "code",
   "execution_count": 13,
   "metadata": {
    "collapsed": true
   },
   "outputs": [],
   "source": [
    "def poly_EEA(f, g, p):\n",
    "    \"\"\" Peforms the extended Euclidean algorithm on f and g in R_p.\n",
    "        Returns (gcd, u, v).\"\"\"\n",
    "    u = [1]\n",
    "    gcd = f\n",
    "    x = [0]\n",
    "    y = list(g)\n",
    "    while y != [0]:\n",
    "        (q,t) = poly_division(gcd, y, p)\n",
    "        s = poly_subtract(u, poly_mult(q, x, p=p), p=p)\n",
    "        u = x\n",
    "        gcd = y\n",
    "        x = s\n",
    "        y = t\n",
    "    v = poly_division(poly_subtract(gcd, poly_mult(f, u, p=p), p=p), g, p)[0]\n",
    "    return (gcd, u, v)\n",
    "    \n",
    "# testing\n",
    "validated = True\n",
    "test_data = (([-1,0,0,0,0,1], [-3,2,0,1], 13), ([4,3,2,1], [1,0,0,5], 7), ([65,0,1,-4,0,0,0,2], [1,2], 19))\n",
    "for (f,g,p) in test_data:\n",
    "    (gcd,u,v) = poly_EEA(f, g, p)\n",
    "    if gcd != poly_format(poly_add(poly_mult(f, u, p=p), poly_mult(g, v, p=p), p=p)):\n",
    "        validated = False\n",
    "\n",
    "if not validated:\n",
    "    make_square('red')"
   ]
  },
  {
   "cell_type": "code",
   "execution_count": 14,
   "metadata": {
    "collapsed": true
   },
   "outputs": [],
   "source": [
    "def reduce_mod(f, p):\n",
    "    \"\"\" Reduce the coefficients of f mod p\"\"\"\n",
    "    return [i % p for i in f]\n",
    "\n",
    "# testing\n",
    "validated = True\n",
    "if reduce_mod([2,7,3,4], 3) != [2,1,0,1]:\n",
    "    validated = False\n",
    "    \n",
    "if not validated:\n",
    "    make_square('red')"
   ]
  },
  {
   "cell_type": "code",
   "execution_count": 15,
   "metadata": {
    "collapsed": true
   },
   "outputs": [],
   "source": [
    "def scalar_mult(f, p):\n",
    "    \"\"\" Return p multiplied by each coefficient of f\"\"\"\n",
    "    return [p*a for a in f]"
   ]
  },
  {
   "cell_type": "code",
   "execution_count": 16,
   "metadata": {
    "collapsed": true
   },
   "outputs": [],
   "source": [
    "def poly_reversal(f):\n",
    "    \"\"\" returns f bar, which is f(x^{-1})\"\"\"\n",
    "    reversal = [f[0]]\n",
    "    for i in range(1, len(f)):\n",
    "        reversal.append(f[-i])\n",
    "    return reversal\n",
    "\n",
    "# testing\n",
    "validated = True\n",
    "if poly_reversal([1,2,3,4]) != [1,4,3,2]:\n",
    "    validated = False\n",
    "if not validated:\n",
    "    make_square('red')"
   ]
  },
  {
   "cell_type": "markdown",
   "metadata": {},
   "source": [
    "# Convolution Rings\n",
    "Functions for getting inverses in $R_p(N)$.\n",
    "\n",
    "### Contents\n",
    "\n",
    "`has_inverse()`\n",
    "\n",
    "`get_inverse()`\n",
    "\n",
    "`lift_inverse()`\n",
    "\n",
    "`find_inverse_mod_q()`"
   ]
  },
  {
   "cell_type": "code",
   "execution_count": 17,
   "metadata": {
    "collapsed": true
   },
   "outputs": [],
   "source": [
    "def has_inverse(f, N, p):\n",
    "    \"\"\" Returns true if f is invertible in R_p by checking\n",
    "        the gcd of f and x^N-1 in F_p[x].\"\"\"\n",
    "    \n",
    "    # the special case of 0\n",
    "    if poly_format(f) == [0]:\n",
    "        return False\n",
    "    \n",
    "    modulus = [-1] + [0 for _ in range(N-1)] + [1]\n",
    "    return len(poly_EEA(f, modulus, p)[0]) == 1\n",
    "\n",
    "# testing\n",
    "validated = True\n",
    "if has_inverse([0,0,1], 3, 2) != True:\n",
    "    validated = False\n",
    "elif has_inverse([1,1,1], 3, 2) != False:\n",
    "    validated = False\n",
    "elif has_inverse([1,1,0,0,1], 5, 2) != True:\n",
    "    validated = False\n",
    "elif has_inverse([6], 7, 11) != True:\n",
    "    validated = False\n",
    "    \n",
    "if not validated:\n",
    "    make_square('red')"
   ]
  },
  {
   "cell_type": "code",
   "execution_count": 18,
   "metadata": {
    "collapsed": true
   },
   "outputs": [],
   "source": [
    "def get_inverse(f, N, p):\n",
    "    \"\"\" Finds the inverse of f in R_p(N) using EEA\"\"\"\n",
    "    \n",
    "    # make x^N - 1 as a polynomial\n",
    "    modulus = [-1] + [0 for _ in range(N-1)] + [1]\n",
    "    \n",
    "    # perform the Extended Euclidean Algorithm\n",
    "    (gcd,u,v) = poly_EEA(f, modulus, p)\n",
    "    if len(gcd) > 1:\n",
    "        return None\n",
    "    return scalar_mult(u, modular_inverse(gcd[0], p))\n",
    "\n",
    "# testing\n",
    "validated = True\n",
    "p = 2; N = 5\n",
    "for _ in range(10):\n",
    "    f = list(np.random.randint(p, size=N))\n",
    "    if has_inverse(f, N, p) and poly_convolution(f, get_inverse(f, N, p), N, p=p) != [1]:\n",
    "        print(poly_convolution(f, get_inverse(f, N, p), N, p=p))\n",
    "        validated = False\n",
    "p = 3; N = 101\n",
    "for _ in range(5):\n",
    "    f = list(np.random.randint(p, size=N))\n",
    "    if has_inverse(f, N, p) and poly_convolution(f, get_inverse(f, N, p), N, p=p) != [1]:\n",
    "        print(poly_convolution(f, get_inverse(f, N, p), N, p=p))\n",
    "        validated = False\n",
    "        \n",
    "if not validated:\n",
    "    make_square('red')"
   ]
  },
  {
   "cell_type": "code",
   "execution_count": 19,
   "metadata": {
    "collapsed": true
   },
   "outputs": [],
   "source": [
    "def lift_inverse(f, F, N, q):\n",
    "    \"\"\" Computes G = F * (2 - f*F) mod q, where\n",
    "        q = p^{2i} and F is the inverse of f \n",
    "        mod p^i\"\"\"\n",
    "    return poly_convolution(F, poly_subtract([2], poly_convolution(f, F, N, p=q), p=q), N, p=q)\n",
    "\n",
    "# testing\n",
    "validated = True\n",
    "if lift_inverse([1,0,1], [2,1,1,2,2], 5, 9) != [5,4,4,5,5]:\n",
    "    validated = False\n",
    "\n",
    "if not validated:\n",
    "    make_square('red')"
   ]
  },
  {
   "cell_type": "code",
   "execution_count": 20,
   "metadata": {
    "collapsed": true
   },
   "outputs": [],
   "source": [
    "def find_inverse_mod_q(f, N, p, alpha):\n",
    "    \"\"\" Computes f inverse mod q = p^alpha\"\"\"\n",
    "    q = p**alpha\n",
    "    F = get_inverse(reduce_mod(f,p), N, p)\n",
    "    \n",
    "    # if f is not invertible mod p, return None\n",
    "    if not F:\n",
    "        return None\n",
    "        \n",
    "    power_of_two = 1\n",
    "    while power_of_two <= alpha:\n",
    "        power_of_two *= 2\n",
    "        F = lift_inverse(f, F, N, p**power_of_two)\n",
    "        \n",
    "    \n",
    "    return [coefficient % q for coefficient in F]\n",
    "\n",
    "\n",
    "# testing on random polynomials\n",
    "validated = True\n",
    "\n",
    "N = 5; p = 2; alpha = 7\n",
    "i = 0\n",
    "while i < 5:\n",
    "    f = np.random.randint(p**alpha, size=N)\n",
    "    F = find_inverse_mod_q(f, N, p, alpha)\n",
    "    if F:\n",
    "        i += 1\n",
    "        if poly_convolution(f, F, N, p=p**alpha) != [1]:\n",
    "            validated = False\n",
    "            \n",
    "N = 8; p = 3; alpha = 6\n",
    "i = 0\n",
    "while i < 5:\n",
    "    f = np.random.randint(p**alpha, size=N)\n",
    "    F = find_inverse_mod_q(f, N, p, alpha)\n",
    "    if F:\n",
    "        i += 1\n",
    "        if poly_convolution(f, F, N, p=p**alpha) != [1]:\n",
    "            validated = False\n",
    "\n",
    "if not validated:\n",
    "    make_square('red')"
   ]
  },
  {
   "cell_type": "markdown",
   "metadata": {},
   "source": [
    "# NTRUEncrypt\n",
    "### Contents\n",
    "\n",
    "`random_T()`\n",
    "\n",
    "`invert()`\n",
    "\n",
    "`make_f()`\n",
    "\n",
    "`make_g()`\n",
    "\n",
    "`make_h()`\n",
    "\n",
    "`make_m()`\n",
    "\n",
    "`make_r()`\n",
    "\n",
    "`center_lift()`"
   ]
  },
  {
   "cell_type": "code",
   "execution_count": 21,
   "metadata": {
    "collapsed": true
   },
   "outputs": [],
   "source": [
    "def random_T(d_1, d_2, N):\n",
    "    \"\"\" Returns a random element of T(d_1, d_2), a polynomial\n",
    "        of degree N with d_1 1's and d_2 -1's and 0's elsewhere.\"\"\"\n",
    "    f = [1 for _ in range(d_1)] + [-1 for _ in range(d_2)] + [0 for _ in range(N - d_1 - d_2)]\n",
    "    return list(np.random.permutation(f))"
   ]
  },
  {
   "cell_type": "code",
   "execution_count": 22,
   "metadata": {
    "collapsed": true
   },
   "outputs": [],
   "source": [
    "def invert(f, N, p):\n",
    "    \"\"\" This finds the inverse of f in R_p(N) if p is a prime power.\"\"\"\n",
    "    factors = factor(p)\n",
    "    \n",
    "    # check if p is not a prime power\n",
    "    if len(factors) > 1:\n",
    "        print(\"Invert() only works on prime powers, not on {}\".format(p))\n",
    "    \n",
    "    return find_inverse_mod_q(f, N, factors[0][0], factors[0][1])"
   ]
  },
  {
   "cell_type": "code",
   "execution_count": 23,
   "metadata": {
    "collapsed": true
   },
   "outputs": [],
   "source": [
    "def make_f(N, p, q):\n",
    "    \"\"\" Gets f for NTRU, a random element of T(d+1, d)\n",
    "        that is invertible in R_p(N) and R_q(N). Returns\n",
    "        a tuple of f and its inverses.\"\"\"\n",
    "    d = N//3\n",
    "    \n",
    "    # pick a random f\n",
    "    f = random_T(d+1, d, N)\n",
    "    F_p = invert(f, N, p); F_q = invert(f, N, q)\n",
    "    while not F_p or not F_q:\n",
    "        \n",
    "        # if it's not invertible in both rings, choose a new one\n",
    "        f = random_T(d+1, d, N)\n",
    "        F_p = invert(f, N, p); F_q = invert(f, N, q)\n",
    "        \n",
    "    # just checking\n",
    "    if poly_convolution(f, F_p, N, p=p) != [1]:\n",
    "        print(\"Inversion Failure: {}, {}, {}, {}\".format(f, F_p, N, p))\n",
    "    if poly_convolution(f, F_q, N, p=q) != [1]:\n",
    "        print(\"Inversion Failure: {}, {}, {}, {}\".format(f, F_q, N, q))\n",
    "        \n",
    "    return (f, F_p, F_q)\n",
    "\n",
    "def make_g(N):\n",
    "    d = N//3\n",
    "    return random_T(d, d, N)\n",
    "\n",
    "def make_h(F_q, g, N, q):\n",
    "    return poly_convolution(F_q, g, N, p=q)\n",
    "\n",
    "def make_m(N, p):\n",
    "    m = list(np.random.randint(-p//2 +1, high=p//2 + 1, size=N))\n",
    "    return poly_format(m)\n",
    "\n",
    "def make_r(N):\n",
    "    d = N//3\n",
    "    return random_T(d, d, N)"
   ]
  },
  {
   "cell_type": "code",
   "execution_count": 24,
   "metadata": {
    "collapsed": true
   },
   "outputs": [],
   "source": [
    "def center_lift(f, p):\n",
    "    \"\"\" Returns the center lift of mod p, the unique polynomial\n",
    "        whose coefficients are congruent mod p to f, and are between\n",
    "        -p/2 and p/2.\"\"\"\n",
    "    center_lift = []\n",
    "    \n",
    "    # iterate through all coefficients\n",
    "    for coefficient in f:\n",
    "        \n",
    "        # reduce the coefficient mod p\n",
    "        reduced = coefficient % p\n",
    "        \n",
    "        # if it is less than or equal to p/2, just add it to the center lift\n",
    "        if reduced <= p/2:\n",
    "            center_lift.append(reduced)\n",
    "            \n",
    "        # otherwise, subtract p to make the value between -p/2 and 0\n",
    "        else:\n",
    "            center_lift.append(reduced - p)\n",
    "    return poly_format(center_lift)"
   ]
  },
  {
   "cell_type": "code",
   "execution_count": 25,
   "metadata": {},
   "outputs": [
    {
     "name": "stdout",
     "output_type": "stream",
     "text": [
      "[17, 4, -9, -8, -6, -5, 6]\n"
     ]
    }
   ],
   "source": [
    "N = 7\n",
    "p = 3\n",
    "g = [1,1,-1,-1,0,0,0]\n",
    "r = [1,0,0,0,-1,-1,1]\n",
    "f = [1,1,1,-1,-1,0,0]\n",
    "m = [1,-1,-1,-1,-1,1,1]\n",
    "print(poly_add(poly_convolution(scalar_mult(g,p),r,N), poly_convolution(f,m,N)))"
   ]
  },
  {
   "cell_type": "code",
   "execution_count": 26,
   "metadata": {},
   "outputs": [
    {
     "name": "stdout",
     "output_type": "stream",
     "text": [
      "[51, 30, 28, 29, 29, 28, 30]\n"
     ]
    }
   ],
   "source": [
    "f = [2,1,4,5,0,2,1]\n",
    "f_bar = poly_reversal(f)\n",
    "print(poly_convolution(f, f_bar, 7))"
   ]
  },
  {
   "cell_type": "code",
   "execution_count": 27,
   "metadata": {},
   "outputs": [
    {
     "name": "stdout",
     "output_type": "stream",
     "text": [
      "15\n",
      "12\n"
     ]
    }
   ],
   "source": [
    "f = [1,1,3,2]\n",
    "g = [f[-1]] + f[0:-1]\n",
    "print(sum([a*a for a in f]))\n",
    "print(sum([f[i]*g[i] for i in range(len(f))]))"
   ]
  },
  {
   "cell_type": "markdown",
   "metadata": {
    "collapsed": true
   },
   "source": [
    "# Testing NTRU"
   ]
  },
  {
   "cell_type": "code",
   "execution_count": 28,
   "metadata": {
    "collapsed": true
   },
   "outputs": [],
   "source": [
    "def is_prime(n):\n",
    "    \"\"\" The naive primality test.\"\"\"\n",
    "    for i in range(2, int(np.sqrt(n)) + 1):\n",
    "        if n % i == 0:\n",
    "            return False\n",
    "    return True\n",
    "\n",
    "def next_prime(p):\n",
    "    \"\"\" Returns the next prime. Very inefficient.\"\"\"\n",
    "    q = p + 1\n",
    "    while not is_prime(q):\n",
    "        q += 1\n",
    "    return q"
   ]
  },
  {
   "cell_type": "code",
   "execution_count": 29,
   "metadata": {
    "collapsed": true
   },
   "outputs": [],
   "source": [
    "def nearby_random_prime(n):\n",
    "    \"\"\" Returns a random prime within 20% of n\"\"\"\n",
    "    nearby_x_values = range(int(n-n/5), int(n + n/5))\n",
    "    \n",
    "    # a counter to make sure we don't hit an infinite loop\n",
    "    i = 0\n",
    "    while True:\n",
    "        potential_prime = np.random.choice(nearby_x_values)\n",
    "        if is_prime(potential_prime):\n",
    "            return potential_prime\n",
    "        i += 1\n",
    "        if i > 100:\n",
    "            raise ValueError(\"No nearby primes found for {}\".format(n))"
   ]
  },
  {
   "cell_type": "code",
   "execution_count": 30,
   "metadata": {
    "collapsed": true
   },
   "outputs": [],
   "source": [
    "def next_power_of_two(n):\n",
    "    \"\"\" Returns the smallest power of 2 \n",
    "        greater than n\"\"\"\n",
    "    power = 2\n",
    "    while power < n:\n",
    "        power *= 2\n",
    "    return power"
   ]
  },
  {
   "cell_type": "code",
   "execution_count": 31,
   "metadata": {
    "collapsed": true
   },
   "outputs": [],
   "source": [
    "def test_NTRU(N, p, q, d, debug=False):\n",
    "    \"\"\" Tests a random example of NTRU with the given parameter set.\"\"\"\n",
    "    (f, F_p, F_q) = make_f(N, p, q)\n",
    "    g = make_g(N)\n",
    "    h = make_h(F_q, g, N, q)\n",
    "    m = make_m(N, p)\n",
    "    r = make_r(N)\n",
    "    e = poly_add(poly_convolution(scalar_mult(h, p), r, N, p=p) , m, p=p)\n",
    "    a = poly_convolution(f, e, N, p=q)\n",
    "    a = center_lift(a, q)\n",
    "    b = poly_convolution(F_p, a, N, p=p)\n",
    "    b = center_lift(b, p)\n",
    "    \n",
    "    if debug:\n",
    "        print('f: ' + str(f))\n",
    "        print('F_p: ' + str(F_p))\n",
    "        print('F_q: ' + str(F_q))\n",
    "        print('g: ' + str(g))\n",
    "        print('h: ' + str(h))\n",
    "        print('m: ' + str(m))\n",
    "        print('r: ' + str(r))\n",
    "        print('e: ' + str(e))\n",
    "        print('a: ' + str(a))\n",
    "        print('b: ' + str(b))\n",
    "    \n",
    "    if b != m:\n",
    "        print(b,m)\n",
    "    return b == m"
   ]
  },
  {
   "cell_type": "code",
   "execution_count": 32,
   "metadata": {
    "collapsed": true
   },
   "outputs": [],
   "source": [
    "def test_NTRU_examples(num_Ns, max_N):\n",
    "    \"\"\" This tests NTRU on random examples. It will test random N \n",
    "        up to max_N, somewhat evenly distributing them. \"\"\"\n",
    "    \n",
    "    successes = 0 # count the successes\n",
    "    \n",
    "    min_test_value = 30\n",
    "    test_interval = max_N // num_Ns\n",
    "    test_values = [min_test_value + test_interval*i for i in range(num_Ns)]\n",
    "    \n",
    "    for test_value in test_values:\n",
    "        N = nearby_random_prime(test_value)\n",
    "        d = N//3\n",
    "        \n",
    "        # p = 3, q = power of 2\n",
    "        p = 3\n",
    "        q = next_power_of_two((6*d+1)*p)\n",
    "        test_result = test_NTRU(N, p, q, d)\n",
    "        if test_result:\n",
    "            successes += 1\n",
    "    \n",
    "    if successes == num_Ns:\n",
    "        print(\"All tests successful.\")\n",
    "    else:\n",
    "        print(\"Not all tests successful.\")"
   ]
  },
  {
   "cell_type": "code",
   "execution_count": 33,
   "metadata": {},
   "outputs": [
    {
     "ename": "KeyboardInterrupt",
     "evalue": "",
     "output_type": "error",
     "traceback": [
      "\u001b[1;31m---------------------------------------------------------------------------\u001b[0m",
      "\u001b[1;31mKeyboardInterrupt\u001b[0m                         Traceback (most recent call last)",
      "\u001b[1;32m<ipython-input-33-047cbebf1354>\u001b[0m in \u001b[0;36m<module>\u001b[1;34m()\u001b[0m\n\u001b[1;32m----> 1\u001b[1;33m \u001b[0mtest_NTRU_examples\u001b[0m\u001b[1;33m(\u001b[0m\u001b[1;36m30\u001b[0m\u001b[1;33m,\u001b[0m \u001b[1;36m500\u001b[0m\u001b[1;33m)\u001b[0m\u001b[1;33m\u001b[0m\u001b[0m\n\u001b[0m",
      "\u001b[1;32m<ipython-input-32-ebbaa09b62f6>\u001b[0m in \u001b[0;36mtest_NTRU_examples\u001b[1;34m(num_Ns, max_N)\u001b[0m\n\u001b[0;32m     16\u001b[0m         \u001b[0mp\u001b[0m \u001b[1;33m=\u001b[0m \u001b[1;36m3\u001b[0m\u001b[1;33m\u001b[0m\u001b[0m\n\u001b[0;32m     17\u001b[0m         \u001b[0mq\u001b[0m \u001b[1;33m=\u001b[0m \u001b[0mnext_power_of_two\u001b[0m\u001b[1;33m(\u001b[0m\u001b[1;33m(\u001b[0m\u001b[1;36m6\u001b[0m\u001b[1;33m*\u001b[0m\u001b[0md\u001b[0m\u001b[1;33m+\u001b[0m\u001b[1;36m1\u001b[0m\u001b[1;33m)\u001b[0m\u001b[1;33m*\u001b[0m\u001b[0mp\u001b[0m\u001b[1;33m)\u001b[0m\u001b[1;33m\u001b[0m\u001b[0m\n\u001b[1;32m---> 18\u001b[1;33m         \u001b[0mtest_result\u001b[0m \u001b[1;33m=\u001b[0m \u001b[0mtest_NTRU\u001b[0m\u001b[1;33m(\u001b[0m\u001b[0mN\u001b[0m\u001b[1;33m,\u001b[0m \u001b[0mp\u001b[0m\u001b[1;33m,\u001b[0m \u001b[0mq\u001b[0m\u001b[1;33m,\u001b[0m \u001b[0md\u001b[0m\u001b[1;33m)\u001b[0m\u001b[1;33m\u001b[0m\u001b[0m\n\u001b[0m\u001b[0;32m     19\u001b[0m         \u001b[1;32mif\u001b[0m \u001b[0mtest_result\u001b[0m\u001b[1;33m:\u001b[0m\u001b[1;33m\u001b[0m\u001b[0m\n\u001b[0;32m     20\u001b[0m             \u001b[0msuccesses\u001b[0m \u001b[1;33m+=\u001b[0m \u001b[1;36m1\u001b[0m\u001b[1;33m\u001b[0m\u001b[0m\n",
      "\u001b[1;32m<ipython-input-31-5ca4ad6bd2f2>\u001b[0m in \u001b[0;36mtest_NTRU\u001b[1;34m(N, p, q, d, debug)\u001b[0m\n\u001b[0;32m      1\u001b[0m \u001b[1;32mdef\u001b[0m \u001b[0mtest_NTRU\u001b[0m\u001b[1;33m(\u001b[0m\u001b[0mN\u001b[0m\u001b[1;33m,\u001b[0m \u001b[0mp\u001b[0m\u001b[1;33m,\u001b[0m \u001b[0mq\u001b[0m\u001b[1;33m,\u001b[0m \u001b[0md\u001b[0m\u001b[1;33m,\u001b[0m \u001b[0mdebug\u001b[0m\u001b[1;33m=\u001b[0m\u001b[1;32mFalse\u001b[0m\u001b[1;33m)\u001b[0m\u001b[1;33m:\u001b[0m\u001b[1;33m\u001b[0m\u001b[0m\n\u001b[0;32m      2\u001b[0m     \u001b[1;34m\"\"\" Tests a random example of NTRU with the given parameter set.\"\"\"\u001b[0m\u001b[1;33m\u001b[0m\u001b[0m\n\u001b[1;32m----> 3\u001b[1;33m     \u001b[1;33m(\u001b[0m\u001b[0mf\u001b[0m\u001b[1;33m,\u001b[0m \u001b[0mF_p\u001b[0m\u001b[1;33m,\u001b[0m \u001b[0mF_q\u001b[0m\u001b[1;33m)\u001b[0m \u001b[1;33m=\u001b[0m \u001b[0mmake_f\u001b[0m\u001b[1;33m(\u001b[0m\u001b[0mN\u001b[0m\u001b[1;33m,\u001b[0m \u001b[0mp\u001b[0m\u001b[1;33m,\u001b[0m \u001b[0mq\u001b[0m\u001b[1;33m)\u001b[0m\u001b[1;33m\u001b[0m\u001b[0m\n\u001b[0m\u001b[0;32m      4\u001b[0m     \u001b[0mg\u001b[0m \u001b[1;33m=\u001b[0m \u001b[0mmake_g\u001b[0m\u001b[1;33m(\u001b[0m\u001b[0mN\u001b[0m\u001b[1;33m)\u001b[0m\u001b[1;33m\u001b[0m\u001b[0m\n\u001b[0;32m      5\u001b[0m     \u001b[0mh\u001b[0m \u001b[1;33m=\u001b[0m \u001b[0mmake_h\u001b[0m\u001b[1;33m(\u001b[0m\u001b[0mF_q\u001b[0m\u001b[1;33m,\u001b[0m \u001b[0mg\u001b[0m\u001b[1;33m,\u001b[0m \u001b[0mN\u001b[0m\u001b[1;33m,\u001b[0m \u001b[0mq\u001b[0m\u001b[1;33m)\u001b[0m\u001b[1;33m\u001b[0m\u001b[0m\n",
      "\u001b[1;32m<ipython-input-23-01e053d2c251>\u001b[0m in \u001b[0;36mmake_f\u001b[1;34m(N, p, q)\u001b[0m\n\u001b[0;32m      7\u001b[0m     \u001b[1;31m# pick a random f\u001b[0m\u001b[1;33m\u001b[0m\u001b[1;33m\u001b[0m\u001b[0m\n\u001b[0;32m      8\u001b[0m     \u001b[0mf\u001b[0m \u001b[1;33m=\u001b[0m \u001b[0mrandom_T\u001b[0m\u001b[1;33m(\u001b[0m\u001b[0md\u001b[0m\u001b[1;33m+\u001b[0m\u001b[1;36m1\u001b[0m\u001b[1;33m,\u001b[0m \u001b[0md\u001b[0m\u001b[1;33m,\u001b[0m \u001b[0mN\u001b[0m\u001b[1;33m)\u001b[0m\u001b[1;33m\u001b[0m\u001b[0m\n\u001b[1;32m----> 9\u001b[1;33m     \u001b[0mF_p\u001b[0m \u001b[1;33m=\u001b[0m \u001b[0minvert\u001b[0m\u001b[1;33m(\u001b[0m\u001b[0mf\u001b[0m\u001b[1;33m,\u001b[0m \u001b[0mN\u001b[0m\u001b[1;33m,\u001b[0m \u001b[0mp\u001b[0m\u001b[1;33m)\u001b[0m\u001b[1;33m;\u001b[0m \u001b[0mF_q\u001b[0m \u001b[1;33m=\u001b[0m \u001b[0minvert\u001b[0m\u001b[1;33m(\u001b[0m\u001b[0mf\u001b[0m\u001b[1;33m,\u001b[0m \u001b[0mN\u001b[0m\u001b[1;33m,\u001b[0m \u001b[0mq\u001b[0m\u001b[1;33m)\u001b[0m\u001b[1;33m\u001b[0m\u001b[0m\n\u001b[0m\u001b[0;32m     10\u001b[0m     \u001b[1;32mwhile\u001b[0m \u001b[1;32mnot\u001b[0m \u001b[0mF_p\u001b[0m \u001b[1;32mor\u001b[0m \u001b[1;32mnot\u001b[0m \u001b[0mF_q\u001b[0m\u001b[1;33m:\u001b[0m\u001b[1;33m\u001b[0m\u001b[0m\n\u001b[0;32m     11\u001b[0m \u001b[1;33m\u001b[0m\u001b[0m\n",
      "\u001b[1;32m<ipython-input-22-b63145dcd95e>\u001b[0m in \u001b[0;36minvert\u001b[1;34m(f, N, p)\u001b[0m\n\u001b[0;32m      7\u001b[0m         \u001b[0mprint\u001b[0m\u001b[1;33m(\u001b[0m\u001b[1;34m\"Invert() only works on prime powers, not on {}\"\u001b[0m\u001b[1;33m.\u001b[0m\u001b[0mformat\u001b[0m\u001b[1;33m(\u001b[0m\u001b[0mp\u001b[0m\u001b[1;33m)\u001b[0m\u001b[1;33m)\u001b[0m\u001b[1;33m\u001b[0m\u001b[0m\n\u001b[0;32m      8\u001b[0m \u001b[1;33m\u001b[0m\u001b[0m\n\u001b[1;32m----> 9\u001b[1;33m     \u001b[1;32mreturn\u001b[0m \u001b[0mfind_inverse_mod_q\u001b[0m\u001b[1;33m(\u001b[0m\u001b[0mf\u001b[0m\u001b[1;33m,\u001b[0m \u001b[0mN\u001b[0m\u001b[1;33m,\u001b[0m \u001b[0mfactors\u001b[0m\u001b[1;33m[\u001b[0m\u001b[1;36m0\u001b[0m\u001b[1;33m]\u001b[0m\u001b[1;33m[\u001b[0m\u001b[1;36m0\u001b[0m\u001b[1;33m]\u001b[0m\u001b[1;33m,\u001b[0m \u001b[0mfactors\u001b[0m\u001b[1;33m[\u001b[0m\u001b[1;36m0\u001b[0m\u001b[1;33m]\u001b[0m\u001b[1;33m[\u001b[0m\u001b[1;36m1\u001b[0m\u001b[1;33m]\u001b[0m\u001b[1;33m)\u001b[0m\u001b[1;33m\u001b[0m\u001b[0m\n\u001b[0m",
      "\u001b[1;32m<ipython-input-20-25897d1f9e26>\u001b[0m in \u001b[0;36mfind_inverse_mod_q\u001b[1;34m(f, N, p, alpha)\u001b[0m\n\u001b[0;32m      2\u001b[0m     \u001b[1;34m\"\"\" Computes f inverse mod q = p^alpha\"\"\"\u001b[0m\u001b[1;33m\u001b[0m\u001b[0m\n\u001b[0;32m      3\u001b[0m     \u001b[0mq\u001b[0m \u001b[1;33m=\u001b[0m \u001b[0mp\u001b[0m\u001b[1;33m**\u001b[0m\u001b[0malpha\u001b[0m\u001b[1;33m\u001b[0m\u001b[0m\n\u001b[1;32m----> 4\u001b[1;33m     \u001b[0mF\u001b[0m \u001b[1;33m=\u001b[0m \u001b[0mget_inverse\u001b[0m\u001b[1;33m(\u001b[0m\u001b[0mreduce_mod\u001b[0m\u001b[1;33m(\u001b[0m\u001b[0mf\u001b[0m\u001b[1;33m,\u001b[0m\u001b[0mp\u001b[0m\u001b[1;33m)\u001b[0m\u001b[1;33m,\u001b[0m \u001b[0mN\u001b[0m\u001b[1;33m,\u001b[0m \u001b[0mp\u001b[0m\u001b[1;33m)\u001b[0m\u001b[1;33m\u001b[0m\u001b[0m\n\u001b[0m\u001b[0;32m      5\u001b[0m \u001b[1;33m\u001b[0m\u001b[0m\n\u001b[0;32m      6\u001b[0m     \u001b[1;31m# if f is not invertible mod p, return None\u001b[0m\u001b[1;33m\u001b[0m\u001b[1;33m\u001b[0m\u001b[0m\n",
      "\u001b[1;32m<ipython-input-18-ee960427337c>\u001b[0m in \u001b[0;36mget_inverse\u001b[1;34m(f, N, p)\u001b[0m\n\u001b[0;32m      6\u001b[0m \u001b[1;33m\u001b[0m\u001b[0m\n\u001b[0;32m      7\u001b[0m     \u001b[1;31m# perform the Extended Euclidean Algorithm\u001b[0m\u001b[1;33m\u001b[0m\u001b[1;33m\u001b[0m\u001b[0m\n\u001b[1;32m----> 8\u001b[1;33m     \u001b[1;33m(\u001b[0m\u001b[0mgcd\u001b[0m\u001b[1;33m,\u001b[0m\u001b[0mu\u001b[0m\u001b[1;33m,\u001b[0m\u001b[0mv\u001b[0m\u001b[1;33m)\u001b[0m \u001b[1;33m=\u001b[0m \u001b[0mpoly_EEA\u001b[0m\u001b[1;33m(\u001b[0m\u001b[0mf\u001b[0m\u001b[1;33m,\u001b[0m \u001b[0mmodulus\u001b[0m\u001b[1;33m,\u001b[0m \u001b[0mp\u001b[0m\u001b[1;33m)\u001b[0m\u001b[1;33m\u001b[0m\u001b[0m\n\u001b[0m\u001b[0;32m      9\u001b[0m     \u001b[1;32mif\u001b[0m \u001b[0mlen\u001b[0m\u001b[1;33m(\u001b[0m\u001b[0mgcd\u001b[0m\u001b[1;33m)\u001b[0m \u001b[1;33m>\u001b[0m \u001b[1;36m1\u001b[0m\u001b[1;33m:\u001b[0m\u001b[1;33m\u001b[0m\u001b[0m\n\u001b[0;32m     10\u001b[0m         \u001b[1;32mreturn\u001b[0m \u001b[1;32mNone\u001b[0m\u001b[1;33m\u001b[0m\u001b[0m\n",
      "\u001b[1;32m<ipython-input-13-b5d48aa5ebcc>\u001b[0m in \u001b[0;36mpoly_EEA\u001b[1;34m(f, g, p)\u001b[0m\n\u001b[0;32m     13\u001b[0m         \u001b[0mx\u001b[0m \u001b[1;33m=\u001b[0m \u001b[0ms\u001b[0m\u001b[1;33m\u001b[0m\u001b[0m\n\u001b[0;32m     14\u001b[0m         \u001b[0my\u001b[0m \u001b[1;33m=\u001b[0m \u001b[0mt\u001b[0m\u001b[1;33m\u001b[0m\u001b[0m\n\u001b[1;32m---> 15\u001b[1;33m     \u001b[0mv\u001b[0m \u001b[1;33m=\u001b[0m \u001b[0mpoly_division\u001b[0m\u001b[1;33m(\u001b[0m\u001b[0mpoly_subtract\u001b[0m\u001b[1;33m(\u001b[0m\u001b[0mgcd\u001b[0m\u001b[1;33m,\u001b[0m \u001b[0mpoly_mult\u001b[0m\u001b[1;33m(\u001b[0m\u001b[0mf\u001b[0m\u001b[1;33m,\u001b[0m \u001b[0mu\u001b[0m\u001b[1;33m,\u001b[0m \u001b[0mp\u001b[0m\u001b[1;33m=\u001b[0m\u001b[0mp\u001b[0m\u001b[1;33m)\u001b[0m\u001b[1;33m,\u001b[0m \u001b[0mp\u001b[0m\u001b[1;33m=\u001b[0m\u001b[0mp\u001b[0m\u001b[1;33m)\u001b[0m\u001b[1;33m,\u001b[0m \u001b[0mg\u001b[0m\u001b[1;33m,\u001b[0m \u001b[0mp\u001b[0m\u001b[1;33m)\u001b[0m\u001b[1;33m[\u001b[0m\u001b[1;36m0\u001b[0m\u001b[1;33m]\u001b[0m\u001b[1;33m\u001b[0m\u001b[0m\n\u001b[0m\u001b[0;32m     16\u001b[0m     \u001b[1;32mreturn\u001b[0m \u001b[1;33m(\u001b[0m\u001b[0mgcd\u001b[0m\u001b[1;33m,\u001b[0m \u001b[0mu\u001b[0m\u001b[1;33m,\u001b[0m \u001b[0mv\u001b[0m\u001b[1;33m)\u001b[0m\u001b[1;33m\u001b[0m\u001b[0m\n\u001b[0;32m     17\u001b[0m \u001b[1;33m\u001b[0m\u001b[0m\n",
      "\u001b[1;32m<ipython-input-10-0fb75d0deeb5>\u001b[0m in \u001b[0;36mpoly_mult\u001b[1;34m(f, g, p)\u001b[0m\n\u001b[0;32m      7\u001b[0m                 \u001b[0mresult\u001b[0m\u001b[1;33m[\u001b[0m\u001b[0mi\u001b[0m \u001b[1;33m+\u001b[0m \u001b[0mj\u001b[0m\u001b[1;33m]\u001b[0m \u001b[1;33m+=\u001b[0m \u001b[0mf\u001b[0m\u001b[1;33m[\u001b[0m\u001b[0mi\u001b[0m\u001b[1;33m]\u001b[0m\u001b[1;33m*\u001b[0m\u001b[0mg\u001b[0m\u001b[1;33m[\u001b[0m\u001b[0mj\u001b[0m\u001b[1;33m]\u001b[0m\u001b[1;33m\u001b[0m\u001b[0m\n\u001b[0;32m      8\u001b[0m             \u001b[1;32melse\u001b[0m\u001b[1;33m:\u001b[0m\u001b[1;33m\u001b[0m\u001b[0m\n\u001b[1;32m----> 9\u001b[1;33m                 \u001b[0mresult\u001b[0m\u001b[1;33m[\u001b[0m\u001b[0mi\u001b[0m \u001b[1;33m+\u001b[0m \u001b[0mj\u001b[0m\u001b[1;33m]\u001b[0m \u001b[1;33m=\u001b[0m \u001b[1;33m(\u001b[0m\u001b[0mresult\u001b[0m\u001b[1;33m[\u001b[0m\u001b[0mi\u001b[0m \u001b[1;33m+\u001b[0m \u001b[0mj\u001b[0m\u001b[1;33m]\u001b[0m \u001b[1;33m+\u001b[0m \u001b[0mf\u001b[0m\u001b[1;33m[\u001b[0m\u001b[0mi\u001b[0m\u001b[1;33m]\u001b[0m\u001b[1;33m*\u001b[0m\u001b[0mg\u001b[0m\u001b[1;33m[\u001b[0m\u001b[0mj\u001b[0m\u001b[1;33m]\u001b[0m\u001b[1;33m)\u001b[0m \u001b[1;33m%\u001b[0m \u001b[0mp\u001b[0m\u001b[1;33m\u001b[0m\u001b[0m\n\u001b[0m\u001b[0;32m     10\u001b[0m     \u001b[1;32mreturn\u001b[0m \u001b[0mpoly_format\u001b[0m\u001b[1;33m(\u001b[0m\u001b[0mresult\u001b[0m\u001b[1;33m)\u001b[0m\u001b[1;33m\u001b[0m\u001b[0m\n\u001b[0;32m     11\u001b[0m \u001b[1;33m\u001b[0m\u001b[0m\n",
      "\u001b[1;31mKeyboardInterrupt\u001b[0m: "
     ]
    }
   ],
   "source": [
    "test_NTRU_examples(30, 500)"
   ]
  },
  {
   "cell_type": "code",
   "execution_count": 75,
   "metadata": {},
   "outputs": [
    {
     "data": {
      "text/plain": [
       "True"
      ]
     },
     "execution_count": 75,
     "metadata": {},
     "output_type": "execute_result"
    }
   ],
   "source": [
    "test_NTRU(743,3,2048, 743//3)"
   ]
  },
  {
   "cell_type": "code",
   "execution_count": 35,
   "metadata": {},
   "outputs": [
    {
     "data": {
      "text/plain": [
       "True"
      ]
     },
     "execution_count": 35,
     "metadata": {},
     "output_type": "execute_result"
    }
   ],
   "source": [
    "test_NTRU(443,3,1024, 443//3)"
   ]
  },
  {
   "cell_type": "code",
   "execution_count": null,
   "metadata": {
    "collapsed": true
   },
   "outputs": [],
   "source": []
  }
 ],
 "metadata": {
  "kernelspec": {
   "display_name": "Python 3",
   "language": "python",
   "name": "python3"
  },
  "language_info": {
   "codemirror_mode": {
    "name": "ipython",
    "version": 3
   },
   "file_extension": ".py",
   "mimetype": "text/x-python",
   "name": "python",
   "nbconvert_exporter": "python",
   "pygments_lexer": "ipython3",
   "version": "3.6.1"
  }
 },
 "nbformat": 4,
 "nbformat_minor": 2
}
